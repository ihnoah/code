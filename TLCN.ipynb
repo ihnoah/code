{
 "cells": [
  {
   "cell_type": "markdown",
   "id": "b1d93c3b-d37a-4c55-ba88-1a8f392e3ce1",
   "metadata": {
    "editable": true,
    "slideshow": {
     "slide_type": "slide"
    },
    "tags": []
   },
   "source": [
    "## Xây dựng ứng dụng dự đoán giá nông sản"
   ]
  },
  {
   "cell_type": "markdown",
   "id": "385de15d-e6c7-4fa3-81ee-9ba31b4a5cde",
   "metadata": {
    "editable": true,
    "slideshow": {
     "slide_type": "subslide"
    },
    "tags": []
   },
   "source": [
    "### Mục tiêu: \n",
    "Dự đoán giá hàng hóa trong tương lai, đưa ra dự báo chính xác biến động giá cả, giảm ảnh hưởng xấu đến người sản xuất và tiêu dùng. \n",
    "Cho phép xác định được giá cả tương lai đối với mặt hàng nông sản cụ thể là lúa gạo, từ đó người nông dân có thể "
   ]
  },
  {
   "cell_type": "code",
   "execution_count": 1,
   "id": "60e247e4-76e9-400d-814d-659a74253371",
   "metadata": {
    "editable": true,
    "slideshow": {
     "slide_type": "skip"
    },
    "tags": []
   },
   "outputs": [],
   "source": [
    "import pandas as pd\n",
    "import numpy as np\n",
    "import matplotlib.pyplot as plt"
   ]
  },
  {
   "cell_type": "code",
   "execution_count": 116,
   "id": "534c516c-0c6b-4e53-af69-5eacb46c6aea",
   "metadata": {
    "editable": true,
    "slideshow": {
     "slide_type": "skip"
    },
    "tags": []
   },
   "outputs": [],
   "source": [
    "df = pd.read_csv(\"./UTE/wfp_food_prices_vnm.csv\", \n",
    "                 parse_dates=True)"
   ]
  },
  {
   "cell_type": "markdown",
   "id": "4b6b97cb-2519-4137-b0b7-206fb3954c6f",
   "metadata": {
    "editable": true,
    "slideshow": {
     "slide_type": "subslide"
    },
    "tags": []
   },
   "source": [
    "Dữ liệu giá lụa gạo Việt Nam ở 2 tỉnh An Giang, Đồng Tháp được thu thập từ trang https://data.humdata.org/dataset/wfp-food-prices-for-viet-nam?force_layout=desktop"
   ]
  },
  {
   "cell_type": "markdown",
   "id": "4ae65fe6-5478-4f9d-a9bf-7e209e386778",
   "metadata": {
    "editable": true,
    "slideshow": {
     "slide_type": "slide"
    },
    "tags": []
   },
   "source": [
    "Dưới đây là mô tả dữ liệu trong tệp wfp_food_prices_vnm.csv\n",
    "Dữ liệu được sắp xếp theo thời gian và chứa thông tin về giá thực phẩm (chủ yếu là gạo) tại các thị trường trong nhiều tháng khác nhau bắt đầu tháng 1 năm 2008 đến 2022.\r\n",
    "\r\n",
    "| Cột         | Mô tả                                                         |\r\n",
    "|-------------|---------------------------------------------------------------|\r\n",
    "| date        | Ngày ghi nhận giá thực phẩm (định dạng: YYYY-MM-DD)             |\r\n",
    "| admin1      | Tên tỉnh hoặc thành phố trực thuộc trung ương                  |\r\n",
    "| admin2      | Tên huyện hoặc quận                                            |\r\n",
    "| market      | Tên thị trường                                                 |\r\n",
    "| latitude    | Vĩ độ của thị trường                                           |\r\n",
    "| longitude   | Kinh độ của thị trường                                          |\r\n",
    "| category    | Loại thực phẩm                                                 |\r\n",
    "| commodity   | Tên thực phẩm                                                  |\r\n",
    "| unit        | Đơn vị đo lường giá thực phẩm                                  |\r\n",
    "| priceflag   | Cờ chỉ định giá (có thể là \"actual\" - giá thực tế)              |\r\n",
    "| pricetype   | Loại giá (có thể là \"Wholesale\" - giá bán buôn)                |\r\n",
    "| currency    | Đơn vị tiền tệ (VND - đồng Việt Nam)                            |\r\n",
    "| price       | Giá thực phẩm                                                  |\r\n",
    "| usdprice    | Giá thực phẩm chuyển đổi sang đô la Mỹ           08.háng 1 năm 2008."
   ]
  },
  {
   "cell_type": "code",
   "execution_count": 86,
   "id": "891284cb-f5f1-423e-9c05-9f3242fdea2a",
   "metadata": {
    "editable": true,
    "slideshow": {
     "slide_type": "slide"
    },
    "tags": []
   },
   "outputs": [
    {
     "data": {
      "text/html": [
       "<div>\n",
       "<style scoped>\n",
       "    .dataframe tbody tr th:only-of-type {\n",
       "        vertical-align: middle;\n",
       "    }\n",
       "\n",
       "    .dataframe tbody tr th {\n",
       "        vertical-align: top;\n",
       "    }\n",
       "\n",
       "    .dataframe thead th {\n",
       "        text-align: right;\n",
       "    }\n",
       "</style>\n",
       "<table border=\"1\" class=\"dataframe\">\n",
       "  <thead>\n",
       "    <tr style=\"text-align: right;\">\n",
       "      <th></th>\n",
       "      <th>date</th>\n",
       "      <th>admin1</th>\n",
       "      <th>admin2</th>\n",
       "      <th>market</th>\n",
       "      <th>latitude</th>\n",
       "      <th>longitude</th>\n",
       "      <th>category</th>\n",
       "      <th>commodity</th>\n",
       "      <th>unit</th>\n",
       "      <th>priceflag</th>\n",
       "      <th>pricetype</th>\n",
       "      <th>currency</th>\n",
       "      <th>price</th>\n",
       "      <th>usdprice</th>\n",
       "    </tr>\n",
       "  </thead>\n",
       "  <tbody>\n",
       "    <tr>\n",
       "      <th>0</th>\n",
       "      <td>1/15/2008</td>\n",
       "      <td>An Giang</td>\n",
       "      <td>Chau Phu</td>\n",
       "      <td>An Giang</td>\n",
       "      <td>10.522</td>\n",
       "      <td>105.126</td>\n",
       "      <td>cereals and tubers</td>\n",
       "      <td>Rice</td>\n",
       "      <td>KG</td>\n",
       "      <td>actual</td>\n",
       "      <td>Wholesale</td>\n",
       "      <td>VND</td>\n",
       "      <td>5317.50</td>\n",
       "      <td>0.3364</td>\n",
       "    </tr>\n",
       "    <tr>\n",
       "      <th>1</th>\n",
       "      <td>1/15/2008</td>\n",
       "      <td>Dong Thap</td>\n",
       "      <td>Tam Nong</td>\n",
       "      <td>Dong Thap</td>\n",
       "      <td>10.678</td>\n",
       "      <td>105.500</td>\n",
       "      <td>cereals and tubers</td>\n",
       "      <td>Rice</td>\n",
       "      <td>KG</td>\n",
       "      <td>actual</td>\n",
       "      <td>Wholesale</td>\n",
       "      <td>VND</td>\n",
       "      <td>5345.71</td>\n",
       "      <td>0.3382</td>\n",
       "    </tr>\n",
       "    <tr>\n",
       "      <th>2</th>\n",
       "      <td>2/15/2008</td>\n",
       "      <td>An Giang</td>\n",
       "      <td>Chau Phu</td>\n",
       "      <td>An Giang</td>\n",
       "      <td>10.522</td>\n",
       "      <td>105.126</td>\n",
       "      <td>cereals and tubers</td>\n",
       "      <td>Rice</td>\n",
       "      <td>KG</td>\n",
       "      <td>actual</td>\n",
       "      <td>Wholesale</td>\n",
       "      <td>VND</td>\n",
       "      <td>5770.00</td>\n",
       "      <td>0.3677</td>\n",
       "    </tr>\n",
       "    <tr>\n",
       "      <th>3</th>\n",
       "      <td>2/15/2008</td>\n",
       "      <td>Dong Thap</td>\n",
       "      <td>Tam Nong</td>\n",
       "      <td>Dong Thap</td>\n",
       "      <td>10.678</td>\n",
       "      <td>105.500</td>\n",
       "      <td>cereals and tubers</td>\n",
       "      <td>Rice</td>\n",
       "      <td>KG</td>\n",
       "      <td>actual</td>\n",
       "      <td>Wholesale</td>\n",
       "      <td>VND</td>\n",
       "      <td>5804.00</td>\n",
       "      <td>0.3698</td>\n",
       "    </tr>\n",
       "    <tr>\n",
       "      <th>4</th>\n",
       "      <td>3/15/2008</td>\n",
       "      <td>An Giang</td>\n",
       "      <td>Chau Phu</td>\n",
       "      <td>An Giang</td>\n",
       "      <td>10.522</td>\n",
       "      <td>105.126</td>\n",
       "      <td>cereals and tubers</td>\n",
       "      <td>Rice</td>\n",
       "      <td>KG</td>\n",
       "      <td>actual</td>\n",
       "      <td>Wholesale</td>\n",
       "      <td>VND</td>\n",
       "      <td>6576.00</td>\n",
       "      <td>0.4108</td>\n",
       "    </tr>\n",
       "  </tbody>\n",
       "</table>\n",
       "</div>"
      ],
      "text/plain": [
       "        date     admin1    admin2     market  latitude  longitude  \\\n",
       "0  1/15/2008   An Giang  Chau Phu   An Giang    10.522    105.126   \n",
       "1  1/15/2008  Dong Thap  Tam Nong  Dong Thap    10.678    105.500   \n",
       "2  2/15/2008   An Giang  Chau Phu   An Giang    10.522    105.126   \n",
       "3  2/15/2008  Dong Thap  Tam Nong  Dong Thap    10.678    105.500   \n",
       "4  3/15/2008   An Giang  Chau Phu   An Giang    10.522    105.126   \n",
       "\n",
       "             category commodity unit priceflag  pricetype currency    price  \\\n",
       "0  cereals and tubers      Rice   KG    actual  Wholesale      VND  5317.50   \n",
       "1  cereals and tubers      Rice   KG    actual  Wholesale      VND  5345.71   \n",
       "2  cereals and tubers      Rice   KG    actual  Wholesale      VND  5770.00   \n",
       "3  cereals and tubers      Rice   KG    actual  Wholesale      VND  5804.00   \n",
       "4  cereals and tubers      Rice   KG    actual  Wholesale      VND  6576.00   \n",
       "\n",
       "   usdprice  \n",
       "0    0.3364  \n",
       "1    0.3382  \n",
       "2    0.3677  \n",
       "3    0.3698  \n",
       "4    0.4108  "
      ]
     },
     "execution_count": 86,
     "metadata": {},
     "output_type": "execute_result"
    }
   ],
   "source": [
    "df.head()"
   ]
  },
  {
   "cell_type": "code",
   "execution_count": 65,
   "id": "414ba0a9-9de8-479a-b1c4-3ddcc870e6fa",
   "metadata": {},
   "outputs": [],
   "source": []
  },
  {
   "cell_type": "code",
   "execution_count": 69,
   "id": "84732faa-f7e0-4ec1-8a79-ad665ef261d5",
   "metadata": {},
   "outputs": [
    {
     "data": {
      "text/html": [
       "<div>\n",
       "<style scoped>\n",
       "    .dataframe tbody tr th:only-of-type {\n",
       "        vertical-align: middle;\n",
       "    }\n",
       "\n",
       "    .dataframe tbody tr th {\n",
       "        vertical-align: top;\n",
       "    }\n",
       "\n",
       "    .dataframe thead th {\n",
       "        text-align: right;\n",
       "    }\n",
       "</style>\n",
       "<table border=\"1\" class=\"dataframe\">\n",
       "  <thead>\n",
       "    <tr style=\"text-align: right;\">\n",
       "      <th></th>\n",
       "      <th>date</th>\n",
       "      <th>price</th>\n",
       "    </tr>\n",
       "  </thead>\n",
       "  <tbody>\n",
       "    <tr>\n",
       "      <th>0</th>\n",
       "      <td>2008-01-15</td>\n",
       "      <td>5317.50</td>\n",
       "    </tr>\n",
       "    <tr>\n",
       "      <th>2</th>\n",
       "      <td>2008-02-15</td>\n",
       "      <td>5770.00</td>\n",
       "    </tr>\n",
       "    <tr>\n",
       "      <th>4</th>\n",
       "      <td>2008-03-15</td>\n",
       "      <td>6576.00</td>\n",
       "    </tr>\n",
       "    <tr>\n",
       "      <th>6</th>\n",
       "      <td>2008-04-15</td>\n",
       "      <td>7195.00</td>\n",
       "    </tr>\n",
       "    <tr>\n",
       "      <th>8</th>\n",
       "      <td>2008-05-15</td>\n",
       "      <td>8466.67</td>\n",
       "    </tr>\n",
       "  </tbody>\n",
       "</table>\n",
       "</div>"
      ],
      "text/plain": [
       "        date    price\n",
       "0 2008-01-15  5317.50\n",
       "2 2008-02-15  5770.00\n",
       "4 2008-03-15  6576.00\n",
       "6 2008-04-15  7195.00\n",
       "8 2008-05-15  8466.67"
      ]
     },
     "execution_count": 69,
     "metadata": {},
     "output_type": "execute_result"
    }
   ],
   "source": [
    "df_date.head()\n"
   ]
  },
  {
   "cell_type": "code",
   "execution_count": 87,
   "id": "d5c2b379-6d25-4fde-904e-f7ebd135cf44",
   "metadata": {},
   "outputs": [
    {
     "name": "stderr",
     "output_type": "stream",
     "text": [
      "C:\\Users\\Thuong\\AppData\\Local\\Temp\\ipykernel_1488\\3684310554.py:5: SettingWithCopyWarning: \n",
      "A value is trying to be set on a copy of a slice from a DataFrame.\n",
      "Try using .loc[row_indexer,col_indexer] = value instead\n",
      "\n",
      "See the caveats in the documentation: https://pandas.pydata.org/pandas-docs/stable/user_guide/indexing.html#returning-a-view-versus-a-copy\n",
      "  df_date['date'] = pd.to_datetime(df_date['date'])\n"
     ]
    }
   ],
   "source": [
    "df = df[df['price'] != 0]\n",
    "df['date'] = pd.to_datetime(df['date'])\n",
    "df = df.reset_index()\n",
    "df_date = df[['date', 'price']]\n",
    "df_date['date'] = pd.to_datetime(df_date['date'])"
   ]
  },
  {
   "cell_type": "code",
   "execution_count": 88,
   "id": "cbbaf1f8-b9ee-43ac-9cfc-6ec0bd138790",
   "metadata": {},
   "outputs": [
    {
     "name": "stdout",
     "output_type": "stream",
     "text": [
      "<class 'pandas.core.frame.DataFrame'>\n",
      "RangeIndex: 311 entries, 0 to 310\n",
      "Data columns (total 2 columns):\n",
      " #   Column  Non-Null Count  Dtype         \n",
      "---  ------  --------------  -----         \n",
      " 0   date    311 non-null    datetime64[ns]\n",
      " 1   price   311 non-null    float64       \n",
      "dtypes: datetime64[ns](1), float64(1)\n",
      "memory usage: 5.0 KB\n"
     ]
    }
   ],
   "source": [
    "df_date.info()\n",
    "df_date = df_date.drop_duplicates(subset='date')"
   ]
  },
  {
   "cell_type": "code",
   "execution_count": 4,
   "id": "b661ce78-b878-43ba-9bc8-19535f5133f5",
   "metadata": {
    "editable": true,
    "slideshow": {
     "slide_type": "skip"
    },
    "tags": []
   },
   "outputs": [],
   "source": [
    "\n",
    "\n",
    "dfAnGiang = df[df['admin1'] == 'An Giang']\n",
    "dfDongThap = df[df['admin1'] == 'Dong Thap']"
   ]
  },
  {
   "cell_type": "code",
   "execution_count": 89,
   "id": "0fdc1b77-883c-4878-a889-503b1dff2896",
   "metadata": {},
   "outputs": [],
   "source": [
    "df_date.set_index('date', inplace=True)\n",
    "df_fill_data = df_date.resample('W').ffill()"
   ]
  },
  {
   "cell_type": "code",
   "execution_count": 90,
   "id": "3889cd9a-1416-4dba-8abf-d807c105f660",
   "metadata": {},
   "outputs": [
    {
     "data": {
      "text/plain": [
       "(753, 1)"
      ]
     },
     "execution_count": 90,
     "metadata": {},
     "output_type": "execute_result"
    }
   ],
   "source": [
    "df_fill_data.shape"
   ]
  },
  {
   "cell_type": "code",
   "execution_count": 120,
   "id": "33afcd36-8af0-48be-813b-3bb617c358ab",
   "metadata": {},
   "outputs": [
    {
     "data": {
      "text/plain": [
       "<Axes: xlabel='date'>"
      ]
     },
     "execution_count": 120,
     "metadata": {},
     "output_type": "execute_result"
    },
    {
     "data": {
      "image/png": "[encoded data removed]",
      "text/plain": [
       "<Figure size 640x480 with 1 Axes>"
      ]
     },
     "metadata": {},
     "output_type": "display_data"
    }
   ],
   "source": [
    "df_fill_data.plot()"
   ]
  },
  {
   "cell_type": "code",
   "execution_count": 79,
   "id": "597486e0-b3ea-41c2-ad7c-a11be42414d5",
   "metadata": {
    "editable": true,
    "slideshow": {
     "slide_type": "skip"
    },
    "tags": [
     "hide_code"
    ]
   },
   "outputs": [],
   "source": [
    "def showPlotRice():\n",
    "    # Tạo đối tượng đồ thị\n",
    "    fig, ax = plt.subplots()\n",
    "    # Vẽ biểu đồ cho chuỗi thời gian 1\n",
    "    ax.plot(dfAnGiang['date'], dfAnGiang['price'], label='Giá lúa ở An Giang')\n",
    "    \n",
    "    # Vẽ biểu đồ cho chuỗi thời gian 2\n",
    "    ax.plot(dfDongThap['date'], dfDongThap['price'], label='Giá lúa ở Đồng Tháp')\n",
    "\n",
    "\n",
    "    \n",
    "    # Đặt nhãn và tiêu đề cho đồ thị\n",
    "    plt.xlabel('VND')\n",
    "    plt.ylabel('Năm')\n",
    "    plt.title('Giá lụa gạo ở An Giang và Đồng Tháp từ năm 2008 đến 2022')\n",
    "    \n",
    "    # Hiển thị chú thích\n",
    "    ax.legend()\n",
    "    \n",
    "    # Hiển thị đồ thị\n",
    "    plt.show()"
   ]
  },
  {
   "cell_type": "code",
   "execution_count": 80,
   "id": "857ce872-ab2a-4bf0-b795-d7d9169f67b3",
   "metadata": {
    "editable": true,
    "slideshow": {
     "slide_type": "slide"
    },
    "tags": []
   },
   "outputs": [
    {
     "data": {
      "image/png": "[encoded data removed]",
      "text/plain": [
       "<Figure size 640x480 with 1 Axes>"
      ]
     },
     "metadata": {},
     "output_type": "display_data"
    }
   ],
   "source": [
    "showPlotRice()"
   ]
  },
  {
   "cell_type": "markdown",
   "id": "b7165ab7-a637-4e9d-ac12-324869d6f063",
   "metadata": {
    "editable": true,
    "slideshow": {
     "slide_type": "slide"
    },
    "tags": []
   },
   "source": [
    "### Thuật toán sử dụng"
   ]
  },
  {
   "cell_type": "markdown",
   "id": "c257cffd-eff2-4b59-8389-c5e58b22c988",
   "metadata": {
    "editable": true,
    "slideshow": {
     "slide_type": "slide"
    },
    "tags": []
   },
   "source": [
    "- ARIMA: mô hình dự báo định lượng theo thời gian, giá trị tương lai của biến số dự báo sẽ phụ thuộc vào xu thế vận động của đối tượng đó trong quá khứ.\n",
    "- ANN: là mạng neural nhân tạo và là mô hình toán học hoặc mô hình toán được xây dựng thông qua các neural sinh học\n",
    "- LSTM: Mạng trí nhớ ngắn hạn định hướng dài hạn còn được viết tắt là LSTM làm một kiến trúc đặc biệt của RNN có khả năng học được sự phục thuộc trong dài hạn"
   ]
  },
  {
   "cell_type": "code",
   "execution_count": 94,
   "id": "80eb8522-6171-4d99-ba82-bfb330806d5c",
   "metadata": {},
   "outputs": [],
   "source": [
    "df = df_fill_data"
   ]
  },
  {
   "cell_type": "code",
   "execution_count": 95,
   "id": "e725dba3-49c5-4271-8b4e-686794748338",
   "metadata": {
    "editable": true,
    "slideshow": {
     "slide_type": ""
    },
    "tags": []
   },
   "outputs": [],
   "source": [
    "import numpy as np # linear algebra\n",
    "import pandas as pd # data processing, CSV file I/O (e.g. pd.read_csv)\n",
    "import matplotlib.pyplot as plt\n",
    "%matplotlib inline\n",
    "import math, time\n",
    "import itertools\n",
    "from sklearn import preprocessing\n",
    "import datetime\n",
    "from operator import itemgetter\n",
    "from sklearn.preprocessing import MinMaxScaler\n",
    "from sklearn.metrics import mean_squared_error\n",
    "from math import sqrt\n",
    "from keras.models import Sequential\n",
    "from keras.layers import Dense, Dropout, Activation\n",
    "from keras.layers import LSTM\n",
    "from keras.models import load_model\n",
    "import keras\n",
    "import h5py\n",
    "import requests"
   ]
  },
  {
   "cell_type": "code",
   "execution_count": 96,
   "id": "b54b4009-397e-40f0-86ed-b4fc97587b8a",
   "metadata": {},
   "outputs": [],
   "source": [
    "min_max_scaler = preprocessing.MinMaxScaler(feature_range=(0, 1))\n",
    "dataset = min_max_scaler.fit_transform(df['price'].values.reshape(-1, 1))"
   ]
  },
  {
   "cell_type": "code",
   "execution_count": 97,
   "id": "70f6f92b-bf3f-4e9d-b663-da28e0906757",
   "metadata": {},
   "outputs": [
    {
     "name": "stdout",
     "output_type": "stream",
     "text": [
      "527 226\n"
     ]
    }
   ],
   "source": [
    "# split into train and test sets\n",
    "train_size = int(len(dataset) * 0.7)\n",
    "test_size = len(dataset) - train_size\n",
    "train, test = dataset[0:train_size,:], dataset[train_size:len(dataset),:]\n",
    "print(len(train), len(test))"
   ]
  },
  {
   "cell_type": "code",
   "execution_count": 98,
   "id": "67297f74-2cf2-4442-8869-5ba367e03609",
   "metadata": {},
   "outputs": [],
   "source": [
    "# convert an array of values into a dataset matrix\n",
    "def create_dataset(dataset, look_back=12):\n",
    "    dataX, dataY = [], []\n",
    "    for i in range(len(dataset)-look_back-1):\n",
    "        a = dataset[i:(i+look_back), 0]\n",
    "        dataX.append(a)\n",
    "        dataY.append(dataset[i + look_back, 0])\n",
    "    return np.array(dataX), np.array(dataY)"
   ]
  },
  {
   "cell_type": "code",
   "execution_count": 99,
   "id": "ba439aa0-cd6c-4a10-90ad-8247b0fb1fb7",
   "metadata": {},
   "outputs": [],
   "source": [
    "x_train, y_train = create_dataset(train)\n",
    "x_test, y_test = create_dataset(test)"
   ]
  },
  {
   "cell_type": "code",
   "execution_count": 100,
   "id": "24360b62-4584-4019-9fd8-e02be5ad35a7",
   "metadata": {},
   "outputs": [
    {
     "name": "stdout",
     "output_type": "stream",
     "text": [
      "(514, 12)\n",
      "(514,)\n",
      "(213, 12)\n",
      "(213,)\n"
     ]
    }
   ],
   "source": [
    "print(x_train.shape)\n",
    "print(y_train.shape)\n",
    "print(x_test.shape)\n",
    "print(y_test.shape)"
   ]
  },
  {
   "cell_type": "code",
   "execution_count": 101,
   "id": "953e7ba9-dec6-44c6-858f-ea8afd728399",
   "metadata": {},
   "outputs": [],
   "source": [
    "x_train = np.reshape(x_train, (x_train.shape[0], 1, x_train.shape[1]))\n",
    "x_test = np.reshape(x_test, (x_test.shape[0], 1, x_test.shape[1]))"
   ]
  },
  {
   "cell_type": "code",
   "execution_count": 103,
   "id": "380e3209-91a6-4466-8a5f-7b931192375b",
   "metadata": {},
   "outputs": [
    {
     "name": "stdout",
     "output_type": "stream",
     "text": [
      "Epoch 1/100\n",
      "103/103 - 2s - loss: 0.0291 - 2s/epoch - 21ms/step\n",
      "Epoch 2/100\n",
      "103/103 - 0s - loss: 0.0070 - 285ms/epoch - 3ms/step\n",
      "Epoch 3/100\n",
      "103/103 - 0s - loss: 0.0058 - 363ms/epoch - 4ms/step\n",
      "Epoch 4/100\n",
      "103/103 - 0s - loss: 0.0048 - 321ms/epoch - 3ms/step\n",
      "Epoch 5/100\n",
      "103/103 - 0s - loss: 0.0039 - 236ms/epoch - 2ms/step\n",
      "Epoch 6/100\n",
      "103/103 - 0s - loss: 0.0032 - 231ms/epoch - 2ms/step\n",
      "Epoch 7/100\n",
      "103/103 - 0s - loss: 0.0026 - 231ms/epoch - 2ms/step\n",
      "Epoch 8/100\n",
      "103/103 - 0s - loss: 0.0023 - 248ms/epoch - 2ms/step\n",
      "Epoch 9/100\n",
      "103/103 - 0s - loss: 0.0020 - 238ms/epoch - 2ms/step\n",
      "Epoch 10/100\n",
      "103/103 - 0s - loss: 0.0018 - 268ms/epoch - 3ms/step\n",
      "Epoch 11/100\n",
      "103/103 - 0s - loss: 0.0018 - 305ms/epoch - 3ms/step\n",
      "Epoch 12/100\n",
      "103/103 - 0s - loss: 0.0017 - 265ms/epoch - 3ms/step\n",
      "Epoch 13/100\n",
      "103/103 - 0s - loss: 0.0017 - 243ms/epoch - 2ms/step\n",
      "Epoch 14/100\n",
      "103/103 - 0s - loss: 0.0016 - 306ms/epoch - 3ms/step\n",
      "Epoch 15/100\n",
      "103/103 - 0s - loss: 0.0016 - 324ms/epoch - 3ms/step\n",
      "Epoch 16/100\n",
      "103/103 - 0s - loss: 0.0016 - 255ms/epoch - 2ms/step\n",
      "Epoch 17/100\n",
      "103/103 - 0s - loss: 0.0015 - 262ms/epoch - 3ms/step\n",
      "Epoch 18/100\n",
      "103/103 - 0s - loss: 0.0015 - 256ms/epoch - 2ms/step\n",
      "Epoch 19/100\n",
      "103/103 - 0s - loss: 0.0014 - 268ms/epoch - 3ms/step\n",
      "Epoch 20/100\n",
      "103/103 - 0s - loss: 0.0014 - 239ms/epoch - 2ms/step\n",
      "Epoch 21/100\n",
      "103/103 - 0s - loss: 0.0013 - 274ms/epoch - 3ms/step\n",
      "Epoch 22/100\n",
      "103/103 - 0s - loss: 0.0014 - 241ms/epoch - 2ms/step\n",
      "Epoch 23/100\n",
      "103/103 - 0s - loss: 0.0013 - 273ms/epoch - 3ms/step\n",
      "Epoch 24/100\n",
      "103/103 - 0s - loss: 0.0013 - 256ms/epoch - 2ms/step\n",
      "Epoch 25/100\n",
      "103/103 - 0s - loss: 0.0013 - 282ms/epoch - 3ms/step\n",
      "Epoch 26/100\n",
      "103/103 - 0s - loss: 0.0013 - 241ms/epoch - 2ms/step\n",
      "Epoch 27/100\n",
      "103/103 - 0s - loss: 0.0012 - 290ms/epoch - 3ms/step\n",
      "Epoch 28/100\n",
      "103/103 - 0s - loss: 0.0012 - 256ms/epoch - 2ms/step\n",
      "Epoch 29/100\n",
      "103/103 - 0s - loss: 0.0012 - 273ms/epoch - 3ms/step\n",
      "Epoch 30/100\n",
      "103/103 - 0s - loss: 0.0012 - 279ms/epoch - 3ms/step\n",
      "Epoch 31/100\n",
      "103/103 - 0s - loss: 0.0012 - 324ms/epoch - 3ms/step\n",
      "Epoch 32/100\n",
      "103/103 - 0s - loss: 0.0012 - 286ms/epoch - 3ms/step\n",
      "Epoch 33/100\n",
      "103/103 - 0s - loss: 0.0012 - 235ms/epoch - 2ms/step\n",
      "Epoch 34/100\n",
      "103/103 - 0s - loss: 0.0012 - 276ms/epoch - 3ms/step\n",
      "Epoch 35/100\n",
      "103/103 - 0s - loss: 0.0012 - 250ms/epoch - 2ms/step\n",
      "Epoch 36/100\n",
      "103/103 - 0s - loss: 0.0012 - 253ms/epoch - 2ms/step\n",
      "Epoch 37/100\n",
      "103/103 - 0s - loss: 0.0011 - 214ms/epoch - 2ms/step\n",
      "Epoch 38/100\n",
      "103/103 - 0s - loss: 0.0011 - 225ms/epoch - 2ms/step\n",
      "Epoch 39/100\n",
      "103/103 - 0s - loss: 0.0012 - 214ms/epoch - 2ms/step\n",
      "Epoch 40/100\n",
      "103/103 - 0s - loss: 0.0011 - 279ms/epoch - 3ms/step\n",
      "Epoch 41/100\n",
      "103/103 - 0s - loss: 0.0012 - 230ms/epoch - 2ms/step\n",
      "Epoch 42/100\n",
      "103/103 - 0s - loss: 0.0011 - 272ms/epoch - 3ms/step\n",
      "Epoch 43/100\n",
      "103/103 - 0s - loss: 0.0011 - 233ms/epoch - 2ms/step\n",
      "Epoch 44/100\n",
      "103/103 - 0s - loss: 0.0011 - 229ms/epoch - 2ms/step\n",
      "Epoch 45/100\n",
      "103/103 - 0s - loss: 0.0011 - 233ms/epoch - 2ms/step\n",
      "Epoch 46/100\n",
      "103/103 - 0s - loss: 0.0011 - 212ms/epoch - 2ms/step\n",
      "Epoch 47/100\n",
      "103/103 - 0s - loss: 0.0011 - 211ms/epoch - 2ms/step\n",
      "Epoch 48/100\n",
      "103/103 - 0s - loss: 0.0011 - 220ms/epoch - 2ms/step\n",
      "Epoch 49/100\n",
      "103/103 - 0s - loss: 0.0011 - 204ms/epoch - 2ms/step\n",
      "Epoch 50/100\n",
      "103/103 - 0s - loss: 0.0011 - 197ms/epoch - 2ms/step\n",
      "Epoch 51/100\n",
      "103/103 - 0s - loss: 0.0012 - 204ms/epoch - 2ms/step\n",
      "Epoch 52/100\n",
      "103/103 - 0s - loss: 0.0011 - 215ms/epoch - 2ms/step\n",
      "Epoch 53/100\n",
      "103/103 - 0s - loss: 0.0011 - 231ms/epoch - 2ms/step\n",
      "Epoch 54/100\n",
      "103/103 - 0s - loss: 0.0012 - 214ms/epoch - 2ms/step\n",
      "Epoch 55/100\n",
      "103/103 - 0s - loss: 0.0011 - 204ms/epoch - 2ms/step\n",
      "Epoch 56/100\n",
      "103/103 - 0s - loss: 0.0011 - 229ms/epoch - 2ms/step\n",
      "Epoch 57/100\n",
      "103/103 - 0s - loss: 0.0011 - 209ms/epoch - 2ms/step\n",
      "Epoch 58/100\n",
      "103/103 - 0s - loss: 0.0011 - 204ms/epoch - 2ms/step\n",
      "Epoch 59/100\n",
      "103/103 - 0s - loss: 0.0011 - 221ms/epoch - 2ms/step\n",
      "Epoch 60/100\n",
      "103/103 - 0s - loss: 0.0010 - 223ms/epoch - 2ms/step\n",
      "Epoch 61/100\n",
      "103/103 - 0s - loss: 0.0011 - 216ms/epoch - 2ms/step\n",
      "Epoch 62/100\n",
      "103/103 - 0s - loss: 0.0011 - 229ms/epoch - 2ms/step\n",
      "Epoch 63/100\n",
      "103/103 - 0s - loss: 0.0011 - 262ms/epoch - 3ms/step\n",
      "Epoch 64/100\n",
      "103/103 - 0s - loss: 0.0010 - 242ms/epoch - 2ms/step\n",
      "Epoch 65/100\n",
      "103/103 - 0s - loss: 0.0010 - 239ms/epoch - 2ms/step\n",
      "Epoch 66/100\n",
      "103/103 - 0s - loss: 0.0011 - 282ms/epoch - 3ms/step\n",
      "Epoch 67/100\n",
      "103/103 - 0s - loss: 0.0011 - 312ms/epoch - 3ms/step\n",
      "Epoch 68/100\n",
      "103/103 - 0s - loss: 0.0010 - 297ms/epoch - 3ms/step\n",
      "Epoch 69/100\n",
      "103/103 - 0s - loss: 0.0011 - 225ms/epoch - 2ms/step\n",
      "Epoch 70/100\n",
      "103/103 - 0s - loss: 0.0011 - 240ms/epoch - 2ms/step\n",
      "Epoch 71/100\n",
      "103/103 - 0s - loss: 0.0011 - 233ms/epoch - 2ms/step\n",
      "Epoch 72/100\n",
      "103/103 - 0s - loss: 0.0011 - 234ms/epoch - 2ms/step\n",
      "Epoch 73/100\n",
      "103/103 - 0s - loss: 0.0010 - 226ms/epoch - 2ms/step\n",
      "Epoch 74/100\n",
      "103/103 - 0s - loss: 0.0011 - 255ms/epoch - 2ms/step\n",
      "Epoch 75/100\n",
      "103/103 - 0s - loss: 0.0011 - 245ms/epoch - 2ms/step\n",
      "Epoch 76/100\n",
      "103/103 - 0s - loss: 0.0011 - 230ms/epoch - 2ms/step\n",
      "Epoch 77/100\n",
      "103/103 - 0s - loss: 0.0010 - 210ms/epoch - 2ms/step\n",
      "Epoch 78/100\n",
      "103/103 - 0s - loss: 0.0011 - 230ms/epoch - 2ms/step\n",
      "Epoch 79/100\n",
      "103/103 - 0s - loss: 0.0011 - 226ms/epoch - 2ms/step\n",
      "Epoch 80/100\n",
      "103/103 - 0s - loss: 0.0010 - 247ms/epoch - 2ms/step\n",
      "Epoch 81/100\n",
      "103/103 - 0s - loss: 0.0010 - 250ms/epoch - 2ms/step\n",
      "Epoch 82/100\n",
      "103/103 - 0s - loss: 0.0010 - 217ms/epoch - 2ms/step\n",
      "Epoch 83/100\n",
      "103/103 - 0s - loss: 0.0010 - 255ms/epoch - 2ms/step\n",
      "Epoch 84/100\n",
      "103/103 - 0s - loss: 0.0010 - 220ms/epoch - 2ms/step\n",
      "Epoch 85/100\n",
      "103/103 - 0s - loss: 0.0010 - 220ms/epoch - 2ms/step\n",
      "Epoch 86/100\n",
      "103/103 - 0s - loss: 0.0010 - 220ms/epoch - 2ms/step\n",
      "Epoch 87/100\n",
      "103/103 - 0s - loss: 0.0010 - 250ms/epoch - 2ms/step\n",
      "Epoch 88/100\n",
      "103/103 - 0s - loss: 0.0011 - 227ms/epoch - 2ms/step\n",
      "Epoch 89/100\n",
      "103/103 - 0s - loss: 0.0010 - 210ms/epoch - 2ms/step\n",
      "Epoch 90/100\n",
      "103/103 - 0s - loss: 0.0011 - 227ms/epoch - 2ms/step\n",
      "Epoch 91/100\n",
      "103/103 - 0s - loss: 0.0011 - 223ms/epoch - 2ms/step\n",
      "Epoch 92/100\n",
      "103/103 - 0s - loss: 0.0010 - 220ms/epoch - 2ms/step\n",
      "Epoch 93/100\n",
      "103/103 - 0s - loss: 0.0011 - 220ms/epoch - 2ms/step\n",
      "Epoch 94/100\n",
      "103/103 - 0s - loss: 0.0010 - 250ms/epoch - 2ms/step\n",
      "Epoch 95/100\n",
      "103/103 - 0s - loss: 0.0010 - 233ms/epoch - 2ms/step\n",
      "Epoch 96/100\n",
      "103/103 - 0s - loss: 0.0011 - 225ms/epoch - 2ms/step\n",
      "Epoch 97/100\n",
      "103/103 - 0s - loss: 0.0011 - 220ms/epoch - 2ms/step\n",
      "Epoch 98/100\n",
      "103/103 - 0s - loss: 0.0011 - 230ms/epoch - 2ms/step\n",
      "Epoch 99/100\n",
      "103/103 - 0s - loss: 0.0010 - 219ms/epoch - 2ms/step\n",
      "Epoch 100/100\n",
      "103/103 - 0s - loss: 0.0011 - 240ms/epoch - 2ms/step\n"
     ]
    },
    {
     "data": {
      "text/plain": [
       "<keras.src.callbacks.History at 0x2189e7d24d0>"
      ]
     },
     "execution_count": 103,
     "metadata": {},
     "output_type": "execute_result"
    }
   ],
   "source": [
    "# create and fit the LSTM network\n",
    "look_back = 12\n",
    "model = Sequential()\n",
    "model.add(LSTM(20, input_shape=(1, look_back)))\n",
    "model.add(Dense(1))\n",
    "model.compile(loss='mean_squared_error', optimizer='adam')\n",
    "model.fit(x_train, y_train, epochs=100, batch_size=5, verbose=2)"
   ]
  },
  {
   "cell_type": "code",
   "execution_count": 104,
   "id": "536408ca-bcb7-483e-8d62-f194c6de23c2",
   "metadata": {},
   "outputs": [
    {
     "name": "stdout",
     "output_type": "stream",
     "text": [
      "17/17 [==============================] - 0s 2ms/step\n",
      "7/7 [==============================] - 0s 4ms/step\n",
      "Train Score: 223.71 RMSE\n",
      "Test Score: 331.63 RMSE\n"
     ]
    }
   ],
   "source": [
    "trainPredict = model.predict(x_train)\n",
    "testPredict = model.predict(x_test)\n",
    "# invert predictions\n",
    "trainPredict = min_max_scaler.inverse_transform(trainPredict)\n",
    "trainY = min_max_scaler.inverse_transform([y_train])\n",
    "testPredict = min_max_scaler.inverse_transform(testPredict)\n",
    "testY = min_max_scaler.inverse_transform([y_test])\n",
    "# calculate root mean squared error\n",
    "trainScore = math.sqrt(mean_squared_error(trainY[0], trainPredict[:,0]))\n",
    "print('Train Score: %.2f RMSE' % (trainScore))\n",
    "testScore = math.sqrt(mean_squared_error(testY[0], testPredict[:,0]))\n",
    "print('Test Score: %.2f RMSE' % (testScore))"
   ]
  },
  {
   "cell_type": "code",
   "execution_count": 105,
   "id": "5e97056a-af84-432b-b02e-37ff59b4b30c",
   "metadata": {},
   "outputs": [
    {
     "data": {
      "image/png": "[encoded data removed]",
      "text/plain": [
       "<Figure size 640x480 with 1 Axes>"
      ]
     },
     "metadata": {},
     "output_type": "display_data"
    }
   ],
   "source": [
    "# shift train predictions for plotting\n",
    "trainPredictPlot = np.empty_like(dataset)\n",
    "trainPredictPlot[:, :] = np.nan\n",
    "trainPredictPlot[look_back:len(trainPredict)+look_back, :] = trainPredict\n",
    "# shift test predictions for plotting\n",
    "testPredictPlot = np.empty_like(dataset)\n",
    "testPredictPlot[:, :] = np.nan\n",
    "testPredictPlot[len(trainPredict)+(look_back*2)+1:len(dataset)-1, :] = testPredict\n",
    "# plot baseline and predictions\n",
    "plt.plot(min_max_scaler.inverse_transform(dataset))\n",
    "# plt.plot(trai?nPredictPlot)\n",
    "plt.plot(testPredictPlot)\n",
    "\n",
    "\n",
    "plt.show()"
   ]
  },
  {
   "cell_type": "markdown",
   "id": "3fa49c59-ee58-4292-864e-63e4a157605c",
   "metadata": {},
   "source": [
    "### XG Boost"
   ]
  },
  {
   "cell_type": "code",
   "execution_count": 122,
   "id": "4332b805-dafb-4ed0-bf84-81cb0a2b3bc8",
   "metadata": {},
   "outputs": [],
   "source": [
    "df_fill_date = df_fill_data.index"
   ]
  },
  {
   "cell_type": "code",
   "execution_count": 124,
   "id": "af69a896-679d-4c6f-af2a-3a417333cb72",
   "metadata": {},
   "outputs": [
    {
     "data": {
      "text/plain": [
       "DatetimeIndex(['2008-01-20', '2008-01-27', '2008-02-03', '2008-02-10',\n",
       "               '2008-02-17', '2008-02-24', '2008-03-02', '2008-03-09',\n",
       "               '2008-03-16', '2008-03-23',\n",
       "               ...\n",
       "               '2022-04-17', '2022-04-24', '2022-05-01', '2022-05-08',\n",
       "               '2022-05-15', '2022-05-22', '2022-05-29', '2022-06-05',\n",
       "               '2022-06-12', '2022-06-19'],\n",
       "              dtype='datetime64[ns]', name='date', length=753, freq='W-SUN')"
      ]
     },
     "execution_count": 124,
     "metadata": {},
     "output_type": "execute_result"
    }
   ],
   "source": [
    "df_fill_date"
   ]
  },
  {
   "cell_type": "code",
   "execution_count": null,
   "id": "63a49cad-6e2b-49ac-b0e4-030871f43fb5",
   "metadata": {},
   "outputs": [],
   "source": [
    "def create_time_feature(df):\n",
    "    df['dayofmonth'] = df['date'].dt.day\n",
    "    df['dayofweek'] = df['date'].dt.dayofweek\n",
    "    df['quarter'] = df['date'].dt.quarter\n",
    "    df['month'] = df['date'].dt.month\n",
    "    df['year'] = df['date'].dt.year\n",
    "    df['dayofyear'] = df['date'].dt.dayofyear\n",
    "    df['weekofyear'] = df['date'].dt.weekofyear\n",
    "    return df"
   ]
  }
 ],
 "metadata": {
  "kernelspec": {
   "display_name": "Python 3 (ipykernel)",
   "language": "python",
   "name": "python3"
  },
  "language_info": {
   "codemirror_mode": {
    "name": "ipython",
    "version": 3
   },
   "file_extension": ".py",
   "mimetype": "text/x-python",
   "name": "python",
   "nbconvert_exporter": "python",
   "pygments_lexer": "ipython3",
   "version": "3.11.5"
  }
 },
 "nbformat": 4,
 "nbformat_minor": 5
}
